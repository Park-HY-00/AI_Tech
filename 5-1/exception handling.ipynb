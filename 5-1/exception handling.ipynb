{
 "cells": [
  {
   "cell_type": "code",
   "execution_count": 1,
   "id": "8e61d01e",
   "metadata": {},
   "outputs": [
    {
     "name": "stdout",
     "output_type": "stream",
     "text": [
      "Error\n",
      "Not divided by 0\n",
      "1 10\n",
      "2 5\n",
      "3 3\n",
      "4 2\n",
      "5 2\n",
      "6 1\n",
      "7 1\n",
      "8 1\n",
      "9 1\n"
     ]
    }
   ],
   "source": [
    "a = [1, 2, 3, 4, 5]\n",
    "for i in range(10):\n",
    "    try:\n",
    "        print(i, 10 // i)\n",
    "    except ZeroDivisionError:\n",
    "        print(\"Error\")\n",
    "        print(\"Not divided by 0\")"
   ]
  },
  {
   "cell_type": "code",
   "execution_count": 2,
   "id": "079899b4",
   "metadata": {},
   "outputs": [
    {
     "name": "stdout",
     "output_type": "stream",
     "text": [
      "Error\n",
      "Not divided by 0\n",
      "1 10\n",
      "2\n",
      "2 5\n",
      "3\n",
      "3 3\n",
      "4\n",
      "4 2\n",
      "5\n",
      "5 2\n",
      "list index out of range\n",
      "6 1\n",
      "list index out of range\n",
      "7 1\n",
      "list index out of range\n",
      "8 1\n",
      "list index out of range\n",
      "9 1\n",
      "list index out of range\n"
     ]
    }
   ],
   "source": [
    "a = [1, 2, 3, 4, 5]\n",
    "for i in range(10):\n",
    "    try:\n",
    "        print(i, 10 // i)\n",
    "        print(a[i])\n",
    "    except ZeroDivisionError:\n",
    "        print(\"Error\")\n",
    "        print(\"Not divided by 0\")\n",
    "    except IndexError as e:\n",
    "        print(e)"
   ]
  },
  {
   "cell_type": "code",
   "execution_count": 3,
   "id": "d2b29608",
   "metadata": {},
   "outputs": [
    {
     "name": "stdout",
     "output_type": "stream",
     "text": [
      "Error\n",
      "Not divided by 0\n",
      "1 10\n",
      "2\n",
      "name 'v' is not defined\n",
      "2 5\n",
      "3\n",
      "name 'v' is not defined\n",
      "3 3\n",
      "4\n",
      "name 'v' is not defined\n",
      "4 2\n",
      "5\n",
      "name 'v' is not defined\n",
      "5 2\n",
      "list index out of range\n",
      "6 1\n",
      "list index out of range\n",
      "7 1\n",
      "list index out of range\n",
      "8 1\n",
      "list index out of range\n",
      "9 1\n",
      "list index out of range\n"
     ]
    }
   ],
   "source": [
    "a = [1, 2, 3, 4, 5]\n",
    "for i in range(10):\n",
    "    try:\n",
    "        print(i, 10 // i)\n",
    "        print(a[i])\n",
    "        print(v)\n",
    "    except ZeroDivisionError:\n",
    "        print(\"Error\")\n",
    "        print(\"Not divided by 0\")\n",
    "    except IndexError as e:\n",
    "        print(e)\n",
    "    except Exception as e:\n",
    "        print(e)"
   ]
  },
  {
   "cell_type": "code",
   "execution_count": 6,
   "id": "1918333f",
   "metadata": {},
   "outputs": [
    {
     "name": "stdout",
     "output_type": "stream",
     "text": [
      "Not divided by 0\n",
      "0 ----- 1\n",
      "10\n",
      "1 ----- 10\n",
      "5\n",
      "2 ----- 5\n",
      "3\n",
      "3 ----- 3\n",
      "2\n",
      "4 ----- 2\n",
      "2\n",
      "5 ----- 2\n",
      "1\n",
      "6 ----- 1\n",
      "1\n",
      "7 ----- 1\n",
      "1\n",
      "8 ----- 1\n",
      "1\n",
      "9 ----- 1\n"
     ]
    }
   ],
   "source": [
    "for i in range(0, 10):\n",
    "    try:\n",
    "        result = 10 // i\n",
    "    except ZeroDivisionError:\n",
    "        print(\"Not divided by 0\")\n",
    "    else:\n",
    "        print(10 // i)\n",
    "    finally:\n",
    "        print(i, \"-----\", result)"
   ]
  },
  {
   "cell_type": "code",
   "execution_count": 2,
   "id": "b5f9280c",
   "metadata": {},
   "outputs": [
    {
     "name": "stdout",
     "output_type": "stream",
     "text": [
      "0b1010\n"
     ]
    }
   ],
   "source": [
    "def get_binary_number(decimal_number):\n",
    "    assert isinstance(decimal_number, int)\n",
    "    return bin(decimal_number)\n",
    "\n",
    "print(get_binary_number(10))"
   ]
  },
  {
   "cell_type": "code",
   "execution_count": null,
   "id": "70909420",
   "metadata": {},
   "outputs": [],
   "source": []
  }
 ],
 "metadata": {
  "kernelspec": {
   "display_name": "Python 3",
   "language": "python",
   "name": "python3"
  },
  "language_info": {
   "codemirror_mode": {
    "name": "ipython",
    "version": 3
   },
   "file_extension": ".py",
   "mimetype": "text/x-python",
   "name": "python",
   "nbconvert_exporter": "python",
   "pygments_lexer": "ipython3",
   "version": "3.8.8"
  }
 },
 "nbformat": 4,
 "nbformat_minor": 5
}
