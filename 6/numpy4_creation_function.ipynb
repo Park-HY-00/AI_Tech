{
 "cells": [
  {
   "cell_type": "code",
   "execution_count": 1,
   "id": "5a3da37f",
   "metadata": {},
   "outputs": [],
   "source": [
    "import numpy as np"
   ]
  },
  {
   "cell_type": "markdown",
   "id": "90c13cbe",
   "metadata": {},
   "source": [
    "### arange"
   ]
  },
  {
   "cell_type": "code",
   "execution_count": 2,
   "id": "ebeaa445",
   "metadata": {},
   "outputs": [
    {
     "data": {
      "text/plain": [
       "[0, 3, 6, 9]"
      ]
     },
     "execution_count": 2,
     "metadata": {},
     "output_type": "execute_result"
    }
   ],
   "source": [
    "list(range(0, 10, 3))"
   ]
  },
  {
   "cell_type": "code",
   "execution_count": 3,
   "id": "228c1557",
   "metadata": {},
   "outputs": [
    {
     "data": {
      "text/plain": [
       "list"
      ]
     },
     "execution_count": 3,
     "metadata": {},
     "output_type": "execute_result"
    }
   ],
   "source": [
    "type(list(range(30)))"
   ]
  },
  {
   "cell_type": "code",
   "execution_count": 5,
   "id": "c8bf1710",
   "metadata": {},
   "outputs": [
    {
     "data": {
      "text/plain": [
       "array([ 0,  1,  2,  3,  4,  5,  6,  7,  8,  9, 10, 11, 12, 13, 14, 15, 16,\n",
       "       17, 18, 19, 20, 21, 22, 23, 24, 25, 26, 27, 28, 29])"
      ]
     },
     "execution_count": 5,
     "metadata": {},
     "output_type": "execute_result"
    }
   ],
   "source": [
    "# range: List의 range와 같은 효과\n",
    "# integer로 0부터 29까지 배열추출\n",
    "np.arange(30)"
   ]
  },
  {
   "cell_type": "code",
   "execution_count": 6,
   "id": "33432dff",
   "metadata": {},
   "outputs": [
    {
     "data": {
      "text/plain": [
       "array([0. , 0.5, 1. , 1.5, 2. , 2.5, 3. , 3.5, 4. , 4.5, 5. , 5.5, 6. ,\n",
       "       6.5, 7. , 7.5, 8. , 8.5, 9. , 9.5])"
      ]
     },
     "execution_count": 6,
     "metadata": {},
     "output_type": "execute_result"
    }
   ],
   "source": [
    "np.arange(0, 10, 0.5)"
   ]
  },
  {
   "cell_type": "code",
   "execution_count": 7,
   "id": "7d205a49",
   "metadata": {},
   "outputs": [
    {
     "data": {
      "text/plain": [
       "array([0. , 0.5, 1. , 1.5, 2. , 2.5, 3. , 3.5, 4. , 4.5])"
      ]
     },
     "execution_count": 7,
     "metadata": {},
     "output_type": "execute_result"
    }
   ],
   "source": [
    "np.arange(0, 5, 0.5)    # floating point도 표시가능"
   ]
  },
  {
   "cell_type": "code",
   "execution_count": 8,
   "id": "caa83137",
   "metadata": {},
   "outputs": [
    {
     "data": {
      "text/plain": [
       "array([[ 0,  1,  2,  3,  4,  5],\n",
       "       [ 6,  7,  8,  9, 10, 11],\n",
       "       [12, 13, 14, 15, 16, 17],\n",
       "       [18, 19, 20, 21, 22, 23],\n",
       "       [24, 25, 26, 27, 28, 29]])"
      ]
     },
     "execution_count": 8,
     "metadata": {},
     "output_type": "execute_result"
    }
   ],
   "source": [
    "np.arange(30).reshape(5, 6)"
   ]
  },
  {
   "cell_type": "markdown",
   "id": "6eded93d",
   "metadata": {},
   "source": [
    "### ones, zeros & empty"
   ]
  },
  {
   "cell_type": "code",
   "execution_count": 10,
   "id": "c2a3883d",
   "metadata": {},
   "outputs": [
    {
     "data": {
      "text/plain": [
       "array([0, 0, 0, 0, 0, 0, 0, 0, 0, 0], dtype=int8)"
      ]
     },
     "execution_count": 10,
     "metadata": {},
     "output_type": "execute_result"
    }
   ],
   "source": [
    "# 10 - zero vector 생성\n",
    "np.zeros(shape=(10), dtype=np.int8)"
   ]
  },
  {
   "cell_type": "code",
   "execution_count": 11,
   "id": "e0caa82b",
   "metadata": {},
   "outputs": [
    {
     "data": {
      "text/plain": [
       "array([[0., 0., 0., 0., 0.],\n",
       "       [0., 0., 0., 0., 0.]])"
      ]
     },
     "execution_count": 11,
     "metadata": {},
     "output_type": "execute_result"
    }
   ],
   "source": [
    "np.zeros((2, 5))    # 2 by 5 - zero matrix 생성"
   ]
  },
  {
   "cell_type": "code",
   "execution_count": 12,
   "id": "21e5b62f",
   "metadata": {},
   "outputs": [
    {
     "data": {
      "text/plain": [
       "array([1, 1, 1, 1, 1, 1, 1, 1, 1, 1], dtype=int8)"
      ]
     },
     "execution_count": 12,
     "metadata": {},
     "output_type": "execute_result"
    }
   ],
   "source": [
    "np.ones(shape=(10,), dtype=np.int8)"
   ]
  },
  {
   "cell_type": "code",
   "execution_count": 13,
   "id": "418314d6",
   "metadata": {},
   "outputs": [
    {
     "data": {
      "text/plain": [
       "array([[1., 1., 1., 1., 1.],\n",
       "       [1., 1., 1., 1., 1.]])"
      ]
     },
     "execution_count": 13,
     "metadata": {},
     "output_type": "execute_result"
    }
   ],
   "source": [
    "np.ones((2, 5))"
   ]
  },
  {
   "cell_type": "code",
   "execution_count": 25,
   "id": "aef11394",
   "metadata": {},
   "outputs": [
    {
     "data": {
      "text/plain": [
       "array([-112,  -66,  -81, -111,  -47,    1,    0,    0,    0,    0],\n",
       "      dtype=int8)"
      ]
     },
     "execution_count": 25,
     "metadata": {},
     "output_type": "execute_result"
    }
   ],
   "source": [
    "np.empty(shape=(10,), dtype=np.int8)"
   ]
  },
  {
   "cell_type": "code",
   "execution_count": 15,
   "id": "192243c1",
   "metadata": {},
   "outputs": [
    {
     "data": {
      "text/plain": [
       "array([[9.87937303e-312, 9.87936984e-312, 6.40695298e+029,\n",
       "        2.24706544e-310, 9.87936984e-312],\n",
       "       [2.99575402e-307, 9.87937239e-312, 9.87937549e-312,\n",
       "        6.57934032e-087, 1.17132761e-085],\n",
       "       [2.02671556e+267, 1.21906099e-152, 5.27110623e+180,\n",
       "        4.24115827e+160, 1.94487254e+227],\n",
       "       [9.44633808e+218, 6.50596358e+029, 1.06400250e+248,\n",
       "        6.01347002e-154, 1.27368762e+232],\n",
       "       [8.77581978e-095, 1.25541827e+232, 3.69113190e+193,\n",
       "        2.99027014e+267, 6.64407753e+246],\n",
       "       [1.82267771e+171, 7.14265639e+247, 8.74369672e+140,\n",
       "        4.24203466e+175, 2.98018707e+262],\n",
       "       [6.31110884e+233, 1.15823920e-152, 9.08367206e+223,\n",
       "        6.01347002e-154, 3.92573072e-027],\n",
       "       [2.61625519e+209, 3.59850298e+227, 2.67978223e-080,\n",
       "        1.58897871e-258, 3.68777421e+180],\n",
       "       [4.47593816e-091, 2.93573416e+222, 5.04751656e+223,\n",
       "        1.25767116e-076, 1.96082954e+243],\n",
       "       [1.12576172e-153, 3.77471631e-096, 6.12673757e-062,\n",
       "        6.19833586e-092, 2.11768729e+161]])"
      ]
     },
     "execution_count": 15,
     "metadata": {},
     "output_type": "execute_result"
    }
   ],
   "source": [
    "np.empty((10, 5))"
   ]
  },
  {
   "cell_type": "code",
   "execution_count": 16,
   "id": "7f8969a0",
   "metadata": {},
   "outputs": [
    {
     "data": {
      "text/plain": [
       "(5, 20)"
      ]
     },
     "execution_count": 16,
     "metadata": {},
     "output_type": "execute_result"
    }
   ],
   "source": [
    "test_matrix = np.arange(100).reshape(5, -1)\n",
    "test_matrix.shape"
   ]
  },
  {
   "cell_type": "code",
   "execution_count": 17,
   "id": "0dc55028",
   "metadata": {},
   "outputs": [
    {
     "data": {
      "text/plain": [
       "array([[ 0,  1,  2,  3,  4,  5,  6,  7,  8,  9, 10, 11, 12, 13, 14, 15,\n",
       "        16, 17, 18, 19],\n",
       "       [20, 21, 22, 23, 24, 25, 26, 27, 28, 29, 30, 31, 32, 33, 34, 35,\n",
       "        36, 37, 38, 39],\n",
       "       [40, 41, 42, 43, 44, 45, 46, 47, 48, 49, 50, 51, 52, 53, 54, 55,\n",
       "        56, 57, 58, 59],\n",
       "       [60, 61, 62, 63, 64, 65, 66, 67, 68, 69, 70, 71, 72, 73, 74, 75,\n",
       "        76, 77, 78, 79],\n",
       "       [80, 81, 82, 83, 84, 85, 86, 87, 88, 89, 90, 91, 92, 93, 94, 95,\n",
       "        96, 97, 98, 99]])"
      ]
     },
     "execution_count": 17,
     "metadata": {},
     "output_type": "execute_result"
    }
   ],
   "source": [
    "test_matrix"
   ]
  },
  {
   "cell_type": "code",
   "execution_count": 26,
   "id": "54136939",
   "metadata": {},
   "outputs": [
    {
     "data": {
      "text/plain": [
       "array([[0., 0., 0., 0., 0., 0., 0., 0., 0., 0., 0., 0., 0., 0., 0., 0.,\n",
       "        0., 0., 0., 0.],\n",
       "       [0., 0., 0., 0., 0., 0., 0., 0., 0., 0., 0., 0., 0., 0., 0., 0.,\n",
       "        0., 0., 0., 0.],\n",
       "       [0., 0., 0., 0., 0., 0., 0., 0., 0., 0., 0., 0., 0., 0., 0., 0.,\n",
       "        0., 0., 0., 0.],\n",
       "       [0., 0., 0., 0., 0., 0., 0., 0., 0., 0., 0., 0., 0., 0., 0., 0.,\n",
       "        0., 0., 0., 0.],\n",
       "       [0., 0., 0., 0., 0., 0., 0., 0., 0., 0., 0., 0., 0., 0., 0., 0.,\n",
       "        0., 0., 0., 0.]], dtype=float32)"
      ]
     },
     "execution_count": 26,
     "metadata": {},
     "output_type": "execute_result"
    }
   ],
   "source": [
    "np.zeros_like(test_matrix, dtype=np.float32)"
   ]
  },
  {
   "cell_type": "markdown",
   "id": "eaf56b5d",
   "metadata": {},
   "source": [
    "### eye, identity & digonal"
   ]
  },
  {
   "cell_type": "code",
   "execution_count": 28,
   "id": "acb70b3c",
   "metadata": {},
   "outputs": [
    {
     "data": {
      "text/plain": [
       "array([[1, 0, 0, 0, 0],\n",
       "       [0, 1, 0, 0, 0],\n",
       "       [0, 0, 1, 0, 0],\n",
       "       [0, 0, 0, 1, 0],\n",
       "       [0, 0, 0, 0, 1]], dtype=int8)"
      ]
     },
     "execution_count": 28,
     "metadata": {},
     "output_type": "execute_result"
    }
   ],
   "source": [
    "np.identity(n=5, dtype=np.int8)"
   ]
  },
  {
   "cell_type": "code",
   "execution_count": 29,
   "id": "9bbef4b9",
   "metadata": {},
   "outputs": [
    {
     "data": {
      "text/plain": [
       "array([[1, 0, 0, 0, 0],\n",
       "       [0, 1, 0, 0, 0],\n",
       "       [0, 0, 1, 0, 0]], dtype=int8)"
      ]
     },
     "execution_count": 29,
     "metadata": {},
     "output_type": "execute_result"
    }
   ],
   "source": [
    "np.eye(N=3, M=5, dtype=np.int8)"
   ]
  },
  {
   "cell_type": "code",
   "execution_count": 30,
   "id": "48f50939",
   "metadata": {},
   "outputs": [
    {
     "data": {
      "text/plain": [
       "array([[1., 0., 0.],\n",
       "       [0., 1., 0.],\n",
       "       [0., 0., 1.]])"
      ]
     },
     "execution_count": 30,
     "metadata": {},
     "output_type": "execute_result"
    }
   ],
   "source": [
    "np.eye(3)"
   ]
  },
  {
   "cell_type": "code",
   "execution_count": 31,
   "id": "3a9e40eb",
   "metadata": {},
   "outputs": [
    {
     "data": {
      "text/plain": [
       "array([[0., 0., 1., 0., 0.],\n",
       "       [0., 0., 0., 1., 0.],\n",
       "       [0., 0., 0., 0., 1.]])"
      ]
     },
     "execution_count": 31,
     "metadata": {},
     "output_type": "execute_result"
    }
   ],
   "source": [
    "np.eye(3, 5, k=2)"
   ]
  },
  {
   "cell_type": "code",
   "execution_count": 32,
   "id": "a9517532",
   "metadata": {},
   "outputs": [
    {
     "data": {
      "text/plain": [
       "array([[0, 1, 2],\n",
       "       [3, 4, 5],\n",
       "       [6, 7, 8]])"
      ]
     },
     "execution_count": 32,
     "metadata": {},
     "output_type": "execute_result"
    }
   ],
   "source": [
    "matrix = np.arange(9).reshape(3, 3)\n",
    "matrix"
   ]
  },
  {
   "cell_type": "code",
   "execution_count": 33,
   "id": "ebc6eea0",
   "metadata": {},
   "outputs": [
    {
     "data": {
      "text/plain": [
       "array([3, 7])"
      ]
     },
     "execution_count": 33,
     "metadata": {},
     "output_type": "execute_result"
    }
   ],
   "source": [
    "np.diag(matrix, k=-1)"
   ]
  },
  {
   "cell_type": "code",
   "execution_count": 34,
   "id": "57213af5",
   "metadata": {},
   "outputs": [
    {
     "data": {
      "text/plain": [
       "array([1, 5])"
      ]
     },
     "execution_count": 34,
     "metadata": {},
     "output_type": "execute_result"
    }
   ],
   "source": [
    "np.diag(matrix, k=1)"
   ]
  },
  {
   "cell_type": "markdown",
   "id": "96a6bd63",
   "metadata": {},
   "source": [
    "### numpy.random"
   ]
  },
  {
   "cell_type": "code",
   "execution_count": 35,
   "id": "bda6f745",
   "metadata": {},
   "outputs": [
    {
     "data": {
      "text/plain": [
       "array([[ 1.23606681, -0.74553251, -1.91917995, -1.51121941,  0.42753133],\n",
       "       [-0.51636972,  0.13003833,  0.76674351,  1.28908282,  0.16677522]])"
      ]
     },
     "execution_count": 35,
     "metadata": {},
     "output_type": "execute_result"
    }
   ],
   "source": [
    "np.random.normal(0, 1, 10).reshape(2, 5)"
   ]
  },
  {
   "cell_type": "code",
   "execution_count": 36,
   "id": "e83475b0",
   "metadata": {},
   "outputs": [
    {
     "data": {
      "text/plain": [
       "array([ 1.42126895,  3.02217776,  6.40950519,  2.31046514,  0.35227791,\n",
       "        2.07008195,  2.09768477,  4.67427981,  2.6497173 ,  0.25213762,\n",
       "        2.54745101,  0.23365747,  2.29744356,  0.92027268,  0.73359116,\n",
       "        5.21956615,  6.59012195,  0.11143724,  1.94410084,  5.44962463,\n",
       "        0.0295353 ,  3.90192854,  0.25754713,  2.67597995, 11.72693817,\n",
       "        0.2896457 ,  2.47351707,  0.55177454,  5.48797249,  0.16068741,\n",
       "        1.0467967 ,  3.30783611,  3.05857409,  1.10458859,  0.06996187,\n",
       "        0.49468962,  2.42226686,  0.86763798,  1.14954014,  1.43760754,\n",
       "        1.54171053,  2.92748291,  2.68819384,  0.68427391,  0.31056662,\n",
       "        0.49051346, 10.01948276,  0.62652933,  0.59171286,  2.53482919,\n",
       "        1.69269114,  6.5981    ,  2.21309235,  0.8627319 ,  9.93936946,\n",
       "        3.54605289,  1.48490704,  6.10669354,  1.03437797,  0.01531364,\n",
       "        5.75482471,  0.03419346,  1.00122266,  1.2102822 ,  2.05071885,\n",
       "        0.68901128,  2.42637236,  0.08824436,  1.53012267,  6.22233525,\n",
       "        1.84391917,  1.63638314,  1.18560872,  0.05917956,  0.396426  ,\n",
       "        3.37373366,  3.44134393,  0.81130265,  3.34813383,  5.01650665,\n",
       "        0.91539017,  2.42249909,  1.58890268,  0.4158063 ,  5.47538177,\n",
       "        3.16659476,  0.64486828,  0.12980716,  0.41927562,  1.37568315,\n",
       "        1.85874843,  1.93892814,  1.57680722,  1.29327987,  0.65689301,\n",
       "        0.41983573,  1.2858703 ,  6.62486601,  6.28168762,  1.27658459])"
      ]
     },
     "execution_count": 36,
     "metadata": {},
     "output_type": "execute_result"
    }
   ],
   "source": [
    "np.random.exponential(scale=2, size=100)"
   ]
  },
  {
   "cell_type": "code",
   "execution_count": null,
   "id": "31e55734",
   "metadata": {},
   "outputs": [],
   "source": []
  }
 ],
 "metadata": {
  "kernelspec": {
   "display_name": "Python 3",
   "language": "python",
   "name": "python3"
  },
  "language_info": {
   "codemirror_mode": {
    "name": "ipython",
    "version": 3
   },
   "file_extension": ".py",
   "mimetype": "text/x-python",
   "name": "python",
   "nbconvert_exporter": "python",
   "pygments_lexer": "ipython3",
   "version": "3.8.10"
  }
 },
 "nbformat": 4,
 "nbformat_minor": 5
}
