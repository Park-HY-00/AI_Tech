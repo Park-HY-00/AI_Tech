{
 "cells": [
  {
   "cell_type": "code",
   "execution_count": 18,
   "id": "863fba9b",
   "metadata": {},
   "outputs": [],
   "source": [
    "class Product(object):\n",
    "    pass"
   ]
  },
  {
   "cell_type": "markdown",
   "id": "3ab21fc8",
   "metadata": {},
   "source": [
    "# Visibility Example 1"
   ]
  },
  {
   "cell_type": "code",
   "execution_count": 9,
   "id": "785ae55a",
   "metadata": {},
   "outputs": [],
   "source": [
    "class Inventory(object):\n",
    "    def __init__(self):\n",
    "        self.items = []    \n",
    "        self.test = \"abc\"\n",
    "    \n",
    "    def add_new_item(self, product):\n",
    "        if type(product) == Product:\n",
    "            self.items.append(product)\n",
    "            print(\"new item added\")\n",
    "        else:\n",
    "            raise ValueError(\"Invalid Item\")\n",
    "        \n",
    "    def get_number_of_items(self):\n",
    "        return len(self.__items)"
   ]
  },
  {
   "cell_type": "code",
   "execution_count": 10,
   "id": "8dd6a315",
   "metadata": {},
   "outputs": [
    {
     "name": "stdout",
     "output_type": "stream",
     "text": [
      "new item added\n",
      "new item added\n"
     ]
    },
    {
     "data": {
      "text/plain": [
       "<__main__.Inventory at 0x28751ce8a30>"
      ]
     },
     "execution_count": 10,
     "metadata": {},
     "output_type": "execute_result"
    }
   ],
   "source": [
    "my_inventory = Inventory()\n",
    "my_inventory.add_new_item(Product())\n",
    "my_inventory.add_new_item(Product())\n",
    "my_inventory"
   ]
  },
  {
   "cell_type": "code",
   "execution_count": 11,
   "id": "4bb48a77",
   "metadata": {},
   "outputs": [],
   "source": [
    "my_inventory.items.append(\"abc\")"
   ]
  },
  {
   "cell_type": "code",
   "execution_count": 12,
   "id": "00738be3",
   "metadata": {},
   "outputs": [
    {
     "data": {
      "text/plain": [
       "[<__main__.Product at 0x28751a37640>,\n",
       " <__main__.Product at 0x28751ce86a0>,\n",
       " 'abc']"
      ]
     },
     "execution_count": 12,
     "metadata": {},
     "output_type": "execute_result"
    }
   ],
   "source": [
    "my_inventory.items"
   ]
  },
  {
   "cell_type": "code",
   "execution_count": null,
   "id": "c1580335",
   "metadata": {},
   "outputs": [],
   "source": [
    "my_inventory = Inventory()\n",
    "my_inventory.add_new_item(Product())\n",
    "my_inventory.add_new_item(Product())\n",
    "print(my_inventory.get_number_of_items())\n",
    "\n",
    "print(my_inventory.__items)\n",
    "my_inventory.add_new_item(object)"
   ]
  },
  {
   "cell_type": "code",
   "execution_count": 13,
   "id": "7ad0b541",
   "metadata": {},
   "outputs": [],
   "source": [
    "class Product(object):\n",
    "    pass\n",
    "\n",
    "class Inventory(object):\n",
    "    def __init__(self):\n",
    "        self.__items = []    # Private 변수로 선언: 타객체가 접근 못함\n",
    "    \n",
    "    def add_new_item(self, product):\n",
    "        if type(product) == Product:\n",
    "            self.__items.append(product)\n",
    "            print(\"new item added\")\n",
    "        else:\n",
    "            raise ValueError(\"Invalid Item\")\n",
    "        \n",
    "    def get_number_of_items(self):\n",
    "        return len(self.__items)"
   ]
  },
  {
   "cell_type": "code",
   "execution_count": 14,
   "id": "a2de4648",
   "metadata": {},
   "outputs": [
    {
     "name": "stdout",
     "output_type": "stream",
     "text": [
      "new item added\n",
      "new item added\n"
     ]
    },
    {
     "data": {
      "text/plain": [
       "<__main__.Inventory at 0x28751cfd640>"
      ]
     },
     "execution_count": 14,
     "metadata": {},
     "output_type": "execute_result"
    }
   ],
   "source": [
    "my_inventory = Inventory()\n",
    "my_inventory.add_new_item(Product())\n",
    "my_inventory.add_new_item(Product())\n",
    "my_inventory"
   ]
  },
  {
   "cell_type": "code",
   "execution_count": 17,
   "id": "65f68771",
   "metadata": {},
   "outputs": [
    {
     "ename": "AttributeError",
     "evalue": "'Inventory' object has no attribute '__items'",
     "output_type": "error",
     "traceback": [
      "\u001b[1;31m---------------------------------------------------------------------------\u001b[0m",
      "\u001b[1;31mAttributeError\u001b[0m                            Traceback (most recent call last)",
      "\u001b[1;32m<ipython-input-17-d32863a467eb>\u001b[0m in \u001b[0;36m<module>\u001b[1;34m\u001b[0m\n\u001b[1;32m----> 1\u001b[1;33m \u001b[0mmy_inventory\u001b[0m\u001b[1;33m.\u001b[0m\u001b[0m__items\u001b[0m\u001b[1;33m.\u001b[0m\u001b[0mappend\u001b[0m\u001b[1;33m(\u001b[0m\u001b[1;34m\"abc\"\u001b[0m\u001b[1;33m)\u001b[0m\u001b[1;33m\u001b[0m\u001b[1;33m\u001b[0m\u001b[0m\n\u001b[0m\u001b[0;32m      2\u001b[0m \u001b[1;31m# 접근 불가: AttributeError 발생\u001b[0m\u001b[1;33m\u001b[0m\u001b[1;33m\u001b[0m\u001b[1;33m\u001b[0m\u001b[0m\n",
      "\u001b[1;31mAttributeError\u001b[0m: 'Inventory' object has no attribute '__items'"
     ]
    }
   ],
   "source": [
    "my_inventory.__items.append(\"abc\")\n",
    "# 접근 불가: AttributeError 발생"
   ]
  },
  {
   "cell_type": "markdown",
   "id": "637bde4c",
   "metadata": {},
   "source": [
    "# Visibility Example 2"
   ]
  },
  {
   "cell_type": "code",
   "execution_count": 21,
   "id": "c571ddca",
   "metadata": {},
   "outputs": [],
   "source": [
    "class Inventory(object):\n",
    "    def __init__(self):\n",
    "        self.__items = []\n",
    "    \n",
    "    def add_new_item(self, product):\n",
    "        if type(product) == Product:\n",
    "            self.__items.append(product)\n",
    "            print(\"new item added\")\n",
    "        else:\n",
    "            raise ValueError(\"Invalid Item\")\n",
    "        \n",
    "    def get_number_of_items(self):\n",
    "        return len(self.__items)\n",
    "   \n",
    "    @property    # property decorator: 숨겨진 변수를 반환하게 해줌\n",
    "    def items(self):\n",
    "        return self.__items"
   ]
  },
  {
   "cell_type": "code",
   "execution_count": 22,
   "id": "7ddae875",
   "metadata": {},
   "outputs": [
    {
     "name": "stdout",
     "output_type": "stream",
     "text": [
      "new item added\n",
      "new item added\n",
      "2\n"
     ]
    }
   ],
   "source": [
    "my_inventory = Inventory()\n",
    "my_inventory.add_new_item(Product())\n",
    "my_inventory.add_new_item(Product())\n",
    "print(my_inventory.get_number_of_items())"
   ]
  },
  {
   "cell_type": "code",
   "execution_count": 23,
   "id": "dee97d1d",
   "metadata": {},
   "outputs": [
    {
     "name": "stdout",
     "output_type": "stream",
     "text": [
      "3\n"
     ]
    }
   ],
   "source": [
    "items = my_inventory.items\n",
    "items.append(Product())\n",
    "print(my_inventory.get_number_of_items())"
   ]
  },
  {
   "cell_type": "code",
   "execution_count": 24,
   "id": "3b0f06d7",
   "metadata": {},
   "outputs": [],
   "source": [
    "my_inventory.items.append(\"a\")"
   ]
  },
  {
   "cell_type": "code",
   "execution_count": 25,
   "id": "16451cfb",
   "metadata": {},
   "outputs": [
    {
     "data": {
      "text/plain": [
       "[<__main__.Product at 0x28751cc1b80>,\n",
       " <__main__.Product at 0x28751d737c0>,\n",
       " <__main__.Product at 0x28751c880d0>,\n",
       " 'a']"
      ]
     },
     "execution_count": 25,
     "metadata": {},
     "output_type": "execute_result"
    }
   ],
   "source": [
    "my_inventory.items"
   ]
  },
  {
   "cell_type": "code",
   "execution_count": null,
   "id": "3846118e",
   "metadata": {},
   "outputs": [],
   "source": []
  }
 ],
 "metadata": {
  "kernelspec": {
   "display_name": "Python 3",
   "language": "python",
   "name": "python3"
  },
  "language_info": {
   "codemirror_mode": {
    "name": "ipython",
    "version": 3
   },
   "file_extension": ".py",
   "mimetype": "text/x-python",
   "name": "python",
   "nbconvert_exporter": "python",
   "pygments_lexer": "ipython3",
   "version": "3.8.8"
  }
 },
 "nbformat": 4,
 "nbformat_minor": 5
}
